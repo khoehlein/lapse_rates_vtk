{
 "cells": [
  {
   "cell_type": "code",
   "execution_count": 14,
   "id": "d060ec06-2fbb-4d48-aa36-3739ffdb8961",
   "metadata": {},
   "outputs": [],
   "source": [
    "import os\n",
    "import numpy as np\n",
    "import xarray as xr\n",
    "from src.geometry import RegionBounds, OctahedralGrid\n",
    "from src.level_heights import compute_physical_level_height\n",
    "\n",
    "import pyvista as pv\n",
    "pv.set_jupyter_backend('trame')"
   ]
  },
  {
   "cell_type": "code",
   "execution_count": 40,
   "id": "8238d1cd-099a-4efc-b3d7-3cb9a219ec90",
   "metadata": {},
   "outputs": [],
   "source": [
    "from pyvirtualdisplay import Display\n",
    "\n",
    "WINDOW_SIZE = (1024, 768)\n",
    "\n",
    "display = Display(visible=False, size=WINDOW_SIZE)\n",
    "display.start()\n",
    "\n"
   ]
  },
  {
   "cell_type": "code",
   "execution_count": 2,
   "id": "8ef4b75f-e933-4725-9ef8-69695a4e1dc3",
   "metadata": {},
   "outputs": [],
   "source": [
    "# Load data for Dec 19, 2021, 0600 UTC\n",
    "orography_lr = xr.open_dataset('/mnt/ssd4tb/ECMWF/HRES_orog_o1279_2021-2022.grib', engine='cfgrib').z\n",
    "t2m = xr.open_dataset('/mnt/ssd4tb/ECMWF/HRES_2m_temp_20211219.grib', engine='cfgrib').isel(step=6, time=0).t2m\n",
    "t3d = xr.open_dataset('/mnt/ssd4tb/ECMWF/HRES_Model_Level_temp_20211219.grib', engine='cfgrib').isel(step=6, time=0).t.transpose('hybrid', 'values')\n",
    "lnsp = xr.open_dataset('/mnt/ssd4tb/ECMWF/19Dec21_06Z_lnsp_O1280.grib', engine='cfgrib').lnsp\n",
    "q3d = xr.open_dataset('/mnt/ssd4tb/ECMWF/19Dec21_06Z_q_model_levels_O1280.grib', engine='cfgrib').isel(hybrid=range(117, 137)).q.transpose('hybrid', 'values')\n",
    "h = compute_physical_level_height(\n",
    "    np.exp(lnsp.values)[None, :],\n",
    "    orography_lr.values[None, :],\n",
    "    t3d.values,\n",
    "    q3d.values,\n",
    ")\n",
    "orography_hr = xr.open_dataset('/mnt/ssd4tb/ECMWF/orog_reduced_gaussian_grid_1km.grib', engine='cfgrib').z"
   ]
  },
  {
   "cell_type": "code",
   "execution_count": 10,
   "id": "5b38ab46-e1ab-48c7-976b-c61dd6d89c13",
   "metadata": {},
   "outputs": [],
   "source": [
    "bounds = RegionBounds(48, 50, 18, 20)\n",
    "\n",
    "triangles_lr, indices_lr, coords_lr = OctahedralGrid(1280).get_subgrid(bounds, rescale_indices=True, return_coordinates=True)\n",
    "coords_lr = np.stack([(coords_lr[1] + 180) % 360 - 180, coords_lr[0], np.zeros_like(coords_lr[0])], axis=-1)\n",
    "faces_lr = np.concatenate([np.full((len(triangles_lr), 1), 3, dtype=int), triangles_lr], axis=-1)\n",
    "\n",
    "triangles_hr, indices_hr, coords_hr = OctahedralGrid(8000).get_subgrid(bounds, rescale_indices=True, return_coordinates=True)\n",
    "coords_hr = np.stack([(coords_hr[1] + 180) % 360 - 180, coords_hr[0], np.zeros_like(coords_hr[0])], axis=-1)\n",
    "faces_hr = np.concatenate([np.full((len(triangles_hr), 1), 3, dtype=int), triangles_hr], axis=-1)"
   ]
  },
  {
   "cell_type": "code",
   "execution_count": 11,
   "id": "e7ffcbc8-9ed5-4cfb-a935-53213a429384",
   "metadata": {},
   "outputs": [],
   "source": [
    "z_scale = 4000\n",
    "coords_lr[:, -1] = orography_lr.values[indices_lr] / z_scale\n",
    "mesh_lr = pv.PolyData(coords_lr, faces_lr)\n",
    "mesh_lr.point_data['z'] = coords_lr[:, -1]\n",
    "\n",
    "coords_hr[:, -1] = orography_hr.values[indices_hr] / z_scale\n",
    "mesh_hr = pv.PolyData(coords_hr, faces_hr)\n",
    "mesh_hr.point_data['z'] = coords_hr[:, -1]"
   ]
  },
  {
   "cell_type": "code",
   "execution_count": 12,
   "id": "edffc7cb-344b-4c82-b4be-4ddb66e032fc",
   "metadata": {},
   "outputs": [
    {
     "name": "stdout",
     "output_type": "stream",
     "text": [
      "[[17.90575916 50.01757339  0.30763823]\n",
      " [18.06282723 50.01757339  0.2954215 ]\n",
      " [18.21989529 50.01757339  0.28995574]\n",
      " ...\n",
      " [19.73421927 47.97890916  0.08813025]\n",
      " [19.88372093 47.97890916  0.10454186]\n",
      " [20.03322259 47.97890916  0.08787271]]\n"
     ]
    }
   ],
   "source": [
    "nodes_per_level = len(coords_lr)\n",
    "num_levels = len(h)\n",
    "\n",
    "\n",
    "def get_cells_for_level(i: int) -> np.ndarray:\n",
    "    return np.concatenate([\n",
    "        np.full((len(triangles_lr), 1), 6), \n",
    "        triangles_lr + i * nodes_per_level, \n",
    "        triangles_lr + (i + 1) * nodes_per_level\n",
    "    ], axis=-1)\n",
    "\n",
    "\n",
    "coords_3d = np.tile(coords_lr, (num_levels, 1))\n",
    "coords_3d[:, -1] = h[:, indices_lr].ravel() / z_scale\n",
    "\n",
    "print(coords_3d)\n",
    "\n",
    "cells = np.concatenate([get_cells_for_level(i) for i in range(num_levels - 1)], axis=0)\n",
    "mesh_3d = pv.UnstructuredGrid(cells, [pv.CellType.WEDGE]*len(cells), coords_3d)\n",
    "mesh_3d['scalars'] = t3d.values[:, indices_lr].ravel()"
   ]
  },
  {
   "cell_type": "code",
   "execution_count": 16,
   "id": "6a71acc5-dab8-4c25-9652-2615b60d9034",
   "metadata": {},
   "outputs": [
    {
     "data": {
      "application/vnd.jupyter.widget-view+json": {
       "model_id": "9b8a6c6b17334afab388abcdd8577b46",
       "version_major": 2,
       "version_minor": 0
      },
      "text/plain": [
       "Widget(value='<iframe src=\"http://localhost:34993/index.html?ui=P_0x7efc512068c0_5&reconnect=auto\" class=\"pyvi…"
      ]
     },
     "metadata": {},
     "output_type": "display_data"
    }
   ],
   "source": [
    "plotter = pv.Plotter(window_size=(1024, 768), notebook=True)\n",
    "plotter.background_color = 'k'\n",
    "plotter.add_mesh(mesh_lr, style='wireframe', color='w')\n",
    "plotter.add_mesh(mesh_hr, style='wireframe', color='r')\n",
    "# plotter.add_mesh(mesh_3d, style='wireframe', color='w')\n",
    "plotter.add_volume(mesh_3d, opacity=1)\n",
    "\n",
    "# def do_nothing(normal, origin):\n",
    "#     pass\n",
    "\n",
    "\n",
    "# plotter.add_plane_widget(do_nothing, origin=tuple(np.mean(coords_lr, axis=0).tolist()), normal_rotation=False)\n",
    "plotter.show()"
   ]
  },
  {
   "cell_type": "code",
   "execution_count": 111,
   "id": "8705bc84-7d7a-4fac-8b37-8e3a90d14575",
   "metadata": {},
   "outputs": [
    {
     "data": {
      "application/vnd.jupyter.widget-view+json": {
       "model_id": "caab69f6308f466ab4ca909afa9533ba",
       "version_major": 2,
       "version_minor": 0
      },
      "text/plain": [
       "Widget(value='<iframe src=\"http://localhost:41361/index.html?ui=P_0x7f3b5e4bddb0_32&reconnect=auto\" class=\"pyv…"
      ]
     },
     "metadata": {},
     "output_type": "display_data"
    }
   ],
   "source": [
    "plotter = pv.Plotter()\n",
    "actor = plotter.add_volume(mesh_3d)\n",
    "actor.prop.interpolation_type = 'linear'\n",
    "def toggle_volume_field(flag):\n",
    "    actor.SetVisibility(flag)\n",
    "plotter.add_checkbox_button_widget(toggle_volume_field, value=True)\n",
    "plotter.add_mesh(mesh)\n",
    "plotter.show()"
   ]
  },
  {
   "cell_type": "code",
   "execution_count": 82,
   "id": "257c556b-2d57-4e6a-aabe-142695e18856",
   "metadata": {},
   "outputs": [],
   "source": [
    "degree = 8000\n",
    "grid = OctahedralGrid(degree)\n",
    "triangles, indices, coords = grid.get_subgrid(bounds, rescale_indices=True, return_coordinates=True)\n",
    "coords = np.stack([(coords[1] + 180) % 360 - 180, coords[0], np.zeros_like(coords[0])], axis=-1)\n",
    "faces = np.concatenate([np.full((len(triangles), 1), 3, dtype=int), triangles], axis=-1)"
   ]
  }
 ],
 "metadata": {
  "kernelspec": {
   "display_name": "Python 3 (ipykernel)",
   "language": "python",
   "name": "python3"
  },
  "language_info": {
   "codemirror_mode": {
    "name": "ipython",
    "version": 3
   },
   "file_extension": ".py",
   "mimetype": "text/x-python",
   "name": "python",
   "nbconvert_exporter": "python",
   "pygments_lexer": "ipython3",
   "version": "3.10.13"
  }
 },
 "nbformat": 4,
 "nbformat_minor": 5
}
